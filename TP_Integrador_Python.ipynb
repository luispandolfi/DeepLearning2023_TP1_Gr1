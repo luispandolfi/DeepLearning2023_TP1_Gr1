{
  "cells": [
    {
      "attachments": {},
      "cell_type": "markdown",
      "metadata": {
        "id": "UShQ7MbxF39r"
      },
      "source": [
        "<img src=\"https://raw.githubusercontent.com/ITBA-Python/Certificacion-Profesional-Python/main/assets/clase2/Headers%20c%C3%A1talogo_Mesa%20de%20trabajo%201%20copia%2044.jpg\" width=\"800\">\n",
        "\n",
        "\n",
        "\n",
        "# Certificación Avanzada en Deep Learning\n",
        "# Introducción a Python\n",
        "# TP Integrador - Grupo 1\n",
        "#    - Agustina Selser\n",
        "#    - Luis Pandolfi\n",
        "#    - Jose Zerda\n",
        "\n",
        "\n",
        "<img src=\"https://raw.githubusercontent.com/ITBA-Python/Certificacion-Profesional-Python/main/assets/clase2/LOGOTIPO_sin_fondo_positivo_sin_bajada.png\" width=\"400\">\n",
        "\n"
      ]
    },
    {
      "attachments": {},
      "cell_type": "markdown",
      "metadata": {
        "id": "M0Zy884UqvcE"
      },
      "source": [
        "# Implementación\n"
      ]
    },
    {
      "cell_type": "markdown",
      "metadata": {},
      "source": [
        "## Carga de Datasets"
      ]
    },
    {
      "cell_type": "code",
      "execution_count": 1,
      "metadata": {
        "id": "G0AZHi8B6yYa"
      },
      "outputs": [],
      "source": [
        "import helper\n",
        "from persona import Persona\n",
        "from usuario import Usuario\n",
        "from trabajador import Trabajador\n",
        "from pelicula import Pelicula\n",
        "from score import Score"
      ]
    },
    {
      "cell_type": "code",
      "execution_count": 2,
      "metadata": {
        "id": "VE9J_a3Y69HC"
      },
      "outputs": [
        {
          "name": "stderr",
          "output_type": "stream",
          "text": [
            "c:\\Users\\Jose Zerda\\Documents\\ITBA-DeepLearning\\TP Integrador de Python\\compartido\\DeepLearning2023_TP1_Gr1\\pelicula.py:40: SettingWithCopyWarning: \n",
            "A value is trying to be set on a copy of a slice from a DataFrame.\n",
            "Try using .loc[row_indexer,col_indexer] = value instead\n",
            "\n",
            "See the caveats in the documentation: https://pandas.pydata.org/pandas-docs/stable/user_guide/indexing.html#returning-a-view-versus-a-copy\n",
            "  df[\"Release Date\"] = pd.to_datetime(df[\"Release Date\"], format=\"%d-%b-%Y\")\n"
          ]
        }
      ],
      "source": [
        "(df_personas, df_trabajadores, df_usuarios, df_peliculas, df_scores) = helper.load_all(\"csv_files/personas.csv\", \"csv_files/trabajadores.csv\", \"csv_files/usuarios.csv\", \"csv_files/peliculas.csv\", \"csv_files/scores.csv\")"
      ]
    },
    {
      "cell_type": "markdown",
      "metadata": {},
      "source": [
        "## Parte 1 - Consultas, Altas y Bajas"
      ]
    },
    {
      "cell_type": "markdown",
      "metadata": {},
      "source": [
        "### PELICULAS"
      ]
    },
    {
      "cell_type": "markdown",
      "metadata": {},
      "source": [
        "#### Buscamos por nombre, ejemplo \"GoldenEye\""
      ]
    },
    {
      "cell_type": "code",
      "execution_count": 12,
      "metadata": {},
      "outputs": [
        {
          "data": {
            "text/plain": [
              "[Nombre: GoldenEye (1995), Fecha de estreno: 1995-01-01 00:00:00, Genero: [0, 1, 1, 0, 0, 0, 0, 0, 0, 0, 0, 0, 0, 0, 0, 0, 1, 0, 0], ID: 2]"
            ]
          },
          "execution_count": 12,
          "metadata": {},
          "output_type": "execute_result"
        }
      ],
      "source": [
        "Pelicula.get_from_df(df_peliculas, nombre='GoldenEye')"
      ]
    },
    {
      "cell_type": "markdown",
      "metadata": {},
      "source": [
        "#### Por Release date, ejemplo \"1998-03-10 hasta 1998-03-14\""
      ]
    },
    {
      "cell_type": "code",
      "execution_count": 13,
      "metadata": {
        "colab": {
          "base_uri": "https://localhost:8080/",
          "height": 438
        },
        "id": "wXxMa2YwLSc5",
        "outputId": "249556be-446c-441d-e112-e866253fa677"
      },
      "outputs": [
        {
          "data": {
            "text/plain": [
              "[Nombre: U.S. Marshalls (1998), Fecha de estreno: 1998-03-10 00:00:00, Genero: [0, 1, 0, 0, 0, 0, 0, 0, 0, 0, 0, 0, 0, 0, 0, 0, 1, 0, 0], ID: 912,\n",
              " Nombre: Love and Death on Long Island (1997), Fecha de estreno: 1998-03-10 00:00:00, Genero: [0, 0, 0, 0, 0, 1, 0, 0, 0, 0, 0, 0, 0, 0, 0, 0, 0, 0, 0], ID: 913,\n",
              " Nombre: Wild Things (1998), Fecha de estreno: 1998-03-14 00:00:00, Genero: [0, 0, 0, 0, 0, 0, 1, 0, 1, 0, 0, 0, 0, 1, 0, 0, 1, 0, 0], ID: 914,\n",
              " Nombre: Newton Boys, The (1998), Fecha de estreno: 1998-03-14 00:00:00, Genero: [0, 0, 0, 0, 0, 0, 1, 0, 1, 0, 0, 0, 0, 0, 0, 0, 0, 0, 0], ID: 1106,\n",
              " Nombre: Everest (1998), Fecha de estreno: 1998-03-10 00:00:00, Genero: [0, 0, 0, 0, 0, 0, 0, 1, 0, 0, 0, 0, 0, 0, 0, 0, 0, 0, 0], ID: 1594,\n",
              " Nombre: Hush (1998), Fecha de estreno: 1998-03-10 00:00:00, Genero: [0, 0, 0, 0, 0, 0, 0, 0, 0, 0, 0, 0, 0, 0, 0, 0, 1, 0, 0], ID: 1624]"
            ]
          },
          "execution_count": 13,
          "metadata": {},
          "output_type": "execute_result"
        }
      ],
      "source": [
        "Pelicula.get_from_df(df_peliculas, anios=['1998-03-10', '1998-03-14'])"
      ]
    },
    {
      "cell_type": "markdown",
      "metadata": {},
      "source": [
        "#### Por genero, por ejemplo 'Action' y 'Adventure'"
      ]
    },
    {
      "cell_type": "code",
      "execution_count": 14,
      "metadata": {},
      "outputs": [
        {
          "data": {
            "text/plain": [
              "[Nombre: GoldenEye (1995), Fecha de estreno: 1995-01-01 00:00:00, Genero: [0, 1, 1, 0, 0, 0, 0, 0, 0, 0, 0, 0, 0, 0, 0, 0, 1, 0, 0], ID: 2,\n",
              " Nombre: Muppet Treasure Island (1996), Fecha de estreno: 1996-02-16 00:00:00, Genero: [0, 1, 1, 0, 0, 1, 0, 0, 0, 0, 0, 0, 1, 0, 0, 0, 1, 0, 0], ID: 21,\n",
              " Nombre: Rumble in the Bronx (1995), Fecha de estreno: 1996-02-23 00:00:00, Genero: [0, 1, 1, 0, 0, 0, 1, 0, 0, 0, 0, 0, 0, 0, 0, 0, 0, 0, 0], ID: 24,\n",
              " Nombre: Batman Forever (1995), Fecha de estreno: 1995-01-01 00:00:00, Genero: [0, 1, 1, 0, 0, 1, 1, 0, 0, 0, 0, 0, 0, 0, 0, 0, 0, 0, 0], ID: 29,\n",
              " Nombre: Star Wars (1977), Fecha de estreno: 1977-01-01 00:00:00, Genero: [0, 1, 1, 0, 0, 0, 0, 0, 0, 0, 0, 0, 0, 0, 1, 1, 0, 1, 0], ID: 50,\n",
              " Nombre: Stargate (1994), Fecha de estreno: 1994-01-01 00:00:00, Genero: [0, 1, 1, 0, 0, 0, 0, 0, 0, 0, 0, 0, 0, 0, 0, 1, 0, 0, 0], ID: 62,\n",
              " Nombre: Jurassic Park (1993), Fecha de estreno: 1993-01-01 00:00:00, Genero: [0, 1, 1, 0, 0, 0, 0, 0, 0, 0, 0, 0, 0, 0, 0, 1, 0, 0, 0], ID: 82,\n",
              " Nombre: Heavy Metal (1981), Fecha de estreno: 1981-03-08 00:00:00, Genero: [0, 1, 1, 1, 0, 0, 0, 0, 0, 0, 0, 1, 0, 0, 0, 1, 0, 0, 0], ID: 101,\n",
              " Nombre: Operation Dumbo Drop (1995), Fecha de estreno: 1995-01-01 00:00:00, Genero: [0, 1, 1, 0, 0, 1, 0, 0, 0, 0, 0, 0, 0, 0, 0, 0, 0, 1, 0], ID: 110,\n",
              " Nombre: Rock, The (1996), Fecha de estreno: 1996-06-07 00:00:00, Genero: [0, 1, 1, 0, 0, 0, 0, 0, 0, 0, 0, 0, 0, 0, 0, 0, 1, 0, 0], ID: 117,\n",
              " Nombre: Twister (1996), Fecha de estreno: 1996-05-10 00:00:00, Genero: [0, 1, 1, 0, 0, 0, 0, 0, 0, 0, 0, 0, 0, 0, 0, 0, 1, 0, 0], ID: 118,\n",
              " Nombre: Ghost and the Darkness, The (1996), Fecha de estreno: 1996-10-11 00:00:00, Genero: [0, 1, 1, 0, 0, 0, 0, 0, 0, 0, 0, 0, 0, 0, 0, 0, 0, 0, 0], ID: 148,\n",
              " Nombre: Abyss, The (1989), Fecha de estreno: 1989-01-01 00:00:00, Genero: [0, 1, 1, 0, 0, 0, 0, 0, 0, 0, 0, 0, 0, 0, 0, 1, 1, 0, 0], ID: 164,\n",
              " Nombre: Empire Strikes Back, The (1980), Fecha de estreno: 1980-01-01 00:00:00, Genero: [0, 1, 1, 0, 0, 0, 0, 0, 1, 0, 0, 0, 0, 0, 1, 1, 0, 1, 0], ID: 172,\n",
              " Nombre: Princess Bride, The (1987), Fecha de estreno: 1987-01-01 00:00:00, Genero: [0, 1, 1, 0, 0, 1, 0, 0, 0, 0, 0, 0, 0, 0, 1, 0, 0, 0, 0], ID: 173,\n",
              " Nombre: Raiders of the Lost Ark (1981), Fecha de estreno: 1981-01-01 00:00:00, Genero: [0, 1, 1, 0, 0, 0, 0, 0, 0, 0, 0, 0, 0, 0, 0, 0, 0, 0, 0], ID: 174,\n",
              " Nombre: Return of the Jedi (1983), Fecha de estreno: 1997-03-14 00:00:00, Genero: [0, 1, 1, 0, 0, 0, 0, 0, 0, 0, 0, 0, 0, 0, 1, 1, 0, 1, 0], ID: 181,\n",
              " Nombre: Army of Darkness (1993), Fecha de estreno: 1993-01-01 00:00:00, Genero: [0, 1, 1, 0, 0, 1, 0, 0, 0, 0, 0, 1, 0, 0, 0, 1, 0, 0, 0], ID: 184,\n",
              " Nombre: Evil Dead II (1987), Fecha de estreno: 1987-01-01 00:00:00, Genero: [0, 1, 1, 0, 0, 1, 0, 0, 0, 0, 0, 1, 0, 0, 0, 0, 0, 0, 0], ID: 201,\n",
              " Nombre: Indiana Jones and the Last Crusade (1989), Fecha de estreno: 1989-01-01 00:00:00, Genero: [0, 1, 1, 0, 0, 0, 0, 0, 0, 0, 0, 0, 0, 0, 0, 0, 0, 0, 0], ID: 210,\n",
              " Nombre: Star Trek: First Contact (1996), Fecha de estreno: 1996-11-22 00:00:00, Genero: [0, 1, 1, 0, 0, 0, 0, 0, 0, 0, 0, 0, 0, 0, 0, 1, 0, 0, 0], ID: 222,\n",
              " Nombre: Star Trek VI: The Undiscovered Country (1991), Fecha de estreno: 1991-01-01 00:00:00, Genero: [0, 1, 1, 0, 0, 0, 0, 0, 0, 0, 0, 0, 0, 0, 0, 1, 0, 0, 0], ID: 227,\n",
              " Nombre: Star Trek: The Wrath of Khan (1982), Fecha de estreno: 1982-01-01 00:00:00, Genero: [0, 1, 1, 0, 0, 0, 0, 0, 0, 0, 0, 0, 0, 0, 0, 1, 0, 0, 0], ID: 228,\n",
              " Nombre: Star Trek III: The Search for Spock (1984), Fecha de estreno: 1984-01-01 00:00:00, Genero: [0, 1, 1, 0, 0, 0, 0, 0, 0, 0, 0, 0, 0, 0, 0, 1, 0, 0, 0], ID: 229,\n",
              " Nombre: Star Trek IV: The Voyage Home (1986), Fecha de estreno: 1986-01-01 00:00:00, Genero: [0, 1, 1, 0, 0, 0, 0, 0, 0, 0, 0, 0, 0, 0, 0, 1, 0, 0, 0], ID: 230,\n",
              " Nombre: Batman Returns (1992), Fecha de estreno: 1992-01-01 00:00:00, Genero: [0, 1, 1, 0, 0, 1, 1, 0, 0, 0, 0, 0, 0, 0, 0, 0, 0, 0, 0], ID: 231,\n",
              " Nombre: Turbo: A Power Rangers Movie (1997), Fecha de estreno: 1997-03-28 00:00:00, Genero: [0, 1, 1, 0, 1, 0, 0, 0, 0, 0, 0, 0, 0, 0, 0, 0, 0, 0, 0], ID: 247,\n",
              " Nombre: Lost World: Jurassic Park, The (1997), Fecha de estreno: 1997-05-23 00:00:00, Genero: [0, 1, 1, 0, 0, 0, 0, 0, 0, 0, 0, 0, 0, 0, 0, 1, 1, 0, 0], ID: 252,\n",
              " Nombre: Batman & Robin (1997), Fecha de estreno: 1997-06-20 00:00:00, Genero: [0, 1, 1, 0, 0, 0, 1, 0, 0, 0, 0, 0, 0, 0, 0, 0, 0, 0, 0], ID: 254,\n",
              " Nombre: Men in Black (1997), Fecha de estreno: 1997-07-04 00:00:00, Genero: [0, 1, 1, 0, 0, 1, 0, 0, 0, 0, 0, 0, 0, 0, 0, 1, 0, 0, 0], ID: 257,\n",
              " Nombre: Kull the Conqueror (1997), Fecha de estreno: 1997-08-29 00:00:00, Genero: [0, 1, 1, 0, 0, 0, 0, 0, 0, 0, 0, 0, 0, 0, 0, 0, 0, 0, 0], ID: 266,\n",
              " Nombre: Starship Troopers (1997), Fecha de estreno: 1997-01-01 00:00:00, Genero: [0, 1, 1, 0, 0, 0, 0, 0, 0, 0, 0, 0, 0, 0, 0, 1, 0, 1, 0], ID: 271,\n",
              " Nombre: Spawn (1997), Fecha de estreno: 1997-08-01 00:00:00, Genero: [0, 1, 1, 0, 0, 0, 0, 0, 0, 0, 0, 0, 0, 0, 0, 1, 1, 0, 0], ID: 358,\n",
              " Nombre: Judge Dredd (1995), Fecha de estreno: 1995-01-01 00:00:00, Genero: [0, 1, 1, 0, 0, 0, 0, 0, 0, 0, 0, 0, 0, 0, 0, 1, 0, 0, 0], ID: 373,\n",
              " Nombre: Star Trek: Generations (1994), Fecha de estreno: 1994-01-01 00:00:00, Genero: [0, 1, 1, 0, 0, 0, 0, 0, 0, 0, 0, 0, 0, 0, 0, 1, 0, 0, 0], ID: 380,\n",
              " Nombre: True Lies (1994), Fecha de estreno: 1994-01-01 00:00:00, Genero: [0, 1, 1, 0, 0, 1, 0, 0, 0, 0, 0, 0, 0, 0, 1, 0, 0, 0, 0], ID: 385,\n",
              " Nombre: Super Mario Bros. (1993), Fecha de estreno: 1993-01-01 00:00:00, Genero: [0, 1, 1, 0, 1, 0, 0, 0, 0, 0, 0, 0, 0, 0, 0, 1, 0, 0, 0], ID: 398,\n",
              " Nombre: Three Musketeers, The (1993), Fecha de estreno: 1993-01-01 00:00:00, Genero: [0, 1, 1, 0, 0, 1, 0, 0, 0, 0, 0, 0, 0, 0, 0, 0, 0, 0, 0], ID: 399,\n",
              " Nombre: Batman (1989), Fecha de estreno: 1989-01-01 00:00:00, Genero: [0, 1, 1, 0, 0, 0, 1, 0, 1, 0, 0, 0, 0, 0, 0, 0, 0, 0, 0], ID: 403,\n",
              " Nombre: Mission: Impossible (1996), Fecha de estreno: 1996-05-22 00:00:00, Genero: [0, 1, 1, 0, 0, 0, 0, 0, 0, 0, 0, 0, 0, 1, 0, 0, 0, 0, 0], ID: 405,\n",
              " Nombre: Highlander (1986), Fecha de estreno: 1986-01-01 00:00:00, Genero: [0, 1, 1, 0, 0, 0, 0, 0, 0, 0, 0, 0, 0, 0, 0, 0, 0, 0, 0], ID: 431,\n",
              " Nombre: Star Trek: The Motion Picture (1979), Fecha de estreno: 1979-01-01 00:00:00, Genero: [0, 1, 1, 0, 0, 0, 0, 0, 0, 0, 0, 0, 0, 0, 0, 1, 0, 0, 0], ID: 449,\n",
              " Nombre: Star Trek V: The Final Frontier (1989), Fecha de estreno: 1989-01-01 00:00:00, Genero: [0, 1, 1, 0, 0, 0, 0, 0, 0, 0, 0, 0, 0, 0, 0, 1, 0, 0, 0], ID: 450,\n",
              " Nombre: Dragonheart (1996), Fecha de estreno: 1996-05-31 00:00:00, Genero: [0, 1, 1, 0, 0, 0, 0, 0, 0, 1, 0, 0, 0, 0, 0, 0, 0, 0, 0], ID: 472,\n",
              " Nombre: Adventures of Robin Hood, The (1938), Fecha de estreno: 1938-01-01 00:00:00, Genero: [0, 1, 1, 0, 0, 0, 0, 0, 0, 0, 0, 0, 0, 0, 0, 0, 0, 0, 0], ID: 491,\n",
              " Nombre: African Queen, The (1951), Fecha de estreno: 1951-01-01 00:00:00, Genero: [0, 1, 1, 0, 0, 0, 0, 0, 0, 0, 0, 0, 0, 0, 1, 0, 0, 1, 0], ID: 498,\n",
              " Nombre: Ben-Hur (1959), Fecha de estreno: 1959-01-01 00:00:00, Genero: [0, 1, 1, 0, 0, 0, 0, 0, 1, 0, 0, 0, 0, 0, 0, 0, 0, 0, 0], ID: 526,\n",
              " Nombre: Mortal Kombat (1995), Fecha de estreno: 1995-01-01 00:00:00, Genero: [0, 1, 1, 0, 0, 0, 0, 0, 0, 0, 0, 0, 0, 0, 0, 0, 0, 0, 0], ID: 541,\n",
              " Nombre: Waterworld (1995), Fecha de estreno: 1995-01-01 00:00:00, Genero: [0, 1, 1, 0, 0, 0, 0, 0, 0, 0, 0, 0, 0, 0, 0, 0, 0, 0, 0], ID: 554,\n",
              " Nombre: Quick and the Dead, The (1995), Fecha de estreno: 1995-01-01 00:00:00, Genero: [0, 1, 1, 0, 0, 0, 0, 0, 0, 0, 0, 0, 0, 0, 0, 0, 0, 0, 1], ID: 562,\n",
              " Nombre: Clear and Present Danger (1994), Fecha de estreno: 1994-01-01 00:00:00, Genero: [0, 1, 1, 0, 0, 0, 0, 0, 0, 0, 0, 0, 0, 0, 0, 0, 1, 0, 0], ID: 566,\n",
              " Nombre: Cliffhanger (1993), Fecha de estreno: 1993-01-01 00:00:00, Genero: [0, 1, 1, 0, 0, 0, 1, 0, 0, 0, 0, 0, 0, 0, 0, 0, 0, 0, 0], ID: 576,\n",
              " Nombre: Escape from New York (1981), Fecha de estreno: 1981-01-01 00:00:00, Genero: [0, 1, 1, 0, 0, 0, 0, 0, 0, 0, 0, 0, 0, 0, 0, 1, 1, 0, 0], ID: 636,\n",
              " Nombre: Conan the Barbarian (1981), Fecha de estreno: 1981-01-01 00:00:00, Genero: [0, 1, 1, 0, 0, 0, 0, 0, 0, 0, 0, 0, 0, 0, 0, 0, 0, 0, 0], ID: 679,\n",
              " Nombre: Kull the Conqueror (1997), Fecha de estreno: 1997-08-29 00:00:00, Genero: [0, 1, 1, 0, 0, 0, 0, 0, 0, 0, 0, 0, 0, 0, 0, 0, 0, 0, 0], ID: 680,\n",
              " Nombre: First Knight (1995), Fecha de estreno: 1995-01-01 00:00:00, Genero: [0, 1, 1, 0, 0, 0, 0, 0, 1, 0, 0, 0, 0, 0, 1, 0, 0, 0, 0], ID: 720,\n",
              " Nombre: Jumanji (1995), Fecha de estreno: 1995-01-01 00:00:00, Genero: [0, 1, 1, 0, 1, 0, 0, 0, 0, 1, 0, 0, 0, 0, 0, 1, 0, 0, 0], ID: 755,\n",
              " Nombre: Congo (1995), Fecha de estreno: 1995-01-01 00:00:00, Genero: [0, 1, 1, 0, 0, 0, 0, 0, 0, 0, 0, 0, 0, 1, 0, 1, 0, 0, 0], ID: 769,\n",
              " Nombre: Hard Target (1993), Fecha de estreno: 1993-01-01 00:00:00, Genero: [0, 1, 1, 0, 0, 0, 1, 0, 0, 0, 0, 0, 0, 0, 0, 0, 1, 0, 0], ID: 802,\n",
              " Nombre: Daylight (1996), Fecha de estreno: 1996-12-06 00:00:00, Genero: [0, 1, 1, 0, 0, 0, 0, 0, 0, 0, 0, 0, 0, 0, 0, 0, 1, 0, 0], ID: 827,\n",
              " Nombre: Fled (1996), Fecha de estreno: 1996-07-19 00:00:00, Genero: [0, 1, 1, 0, 0, 0, 0, 0, 0, 0, 0, 0, 0, 0, 0, 0, 0, 0, 0], ID: 829,\n",
              " Nombre: Escape from L.A. (1996), Fecha de estreno: 1996-08-09 00:00:00, Genero: [0, 1, 1, 0, 0, 0, 0, 0, 0, 0, 0, 0, 0, 0, 0, 1, 1, 0, 0], ID: 831,\n",
              " Nombre: Mortal Kombat: Annihilation (1997), Fecha de estreno: 1997-01-01 00:00:00, Genero: [0, 1, 1, 0, 0, 0, 0, 0, 0, 0, 0, 0, 0, 0, 0, 0, 0, 0, 0], ID: 890,\n",
              " Nombre: Time Tracers (1995), Fecha de estreno: 1995-01-01 00:00:00, Genero: [0, 1, 1, 0, 0, 0, 0, 0, 0, 0, 0, 0, 0, 0, 0, 1, 0, 0, 0], ID: 897,\n",
              " Nombre: Chain Reaction (1996), Fecha de estreno: 1996-07-31 00:00:00, Genero: [0, 1, 1, 0, 0, 0, 0, 0, 0, 0, 0, 0, 0, 0, 0, 0, 1, 0, 0], ID: 930,\n",
              " Nombre: Maximum Risk (1996), Fecha de estreno: 1996-09-13 00:00:00, Genero: [0, 1, 1, 0, 0, 0, 0, 0, 0, 0, 0, 0, 0, 0, 0, 0, 1, 0, 0], ID: 982,\n",
              " Nombre: Anaconda (1997), Fecha de estreno: 1997-04-11 00:00:00, Genero: [0, 1, 1, 0, 0, 0, 0, 0, 0, 0, 0, 0, 0, 0, 0, 0, 1, 0, 0], ID: 1013,\n",
              " Nombre: Con Air (1997), Fecha de estreno: 1997-06-06 00:00:00, Genero: [0, 1, 1, 0, 0, 0, 0, 0, 0, 0, 0, 0, 0, 0, 0, 0, 1, 0, 0], ID: 1016,\n",
              " Nombre: Quest, The (1996), Fecha de estreno: 1996-04-26 00:00:00, Genero: [0, 1, 1, 0, 0, 0, 0, 0, 0, 0, 0, 0, 0, 0, 0, 0, 0, 0, 0], ID: 1034,\n",
              " Nombre: Pagemaster, The (1994), Fecha de estreno: 1994-01-01 00:00:00, Genero: [0, 1, 1, 1, 1, 0, 0, 0, 0, 1, 0, 0, 0, 0, 0, 0, 0, 0, 0], ID: 1076,\n",
              " Nombre: Firestorm (1998), Fecha de estreno: 1998-01-09 00:00:00, Genero: [0, 1, 1, 0, 0, 0, 0, 0, 0, 0, 0, 0, 0, 0, 0, 0, 1, 0, 0], ID: 1105,\n",
              " Nombre: Cutthroat Island (1995), Fecha de estreno: 1995-01-01 00:00:00, Genero: [0, 1, 1, 0, 0, 0, 0, 0, 0, 0, 0, 0, 0, 0, 1, 0, 0, 0, 0], ID: 1239,\n",
              " Nombre: Surviving the Game (1994), Fecha de estreno: 1994-01-01 00:00:00, Genero: [0, 1, 1, 0, 0, 0, 0, 0, 0, 0, 0, 0, 0, 0, 0, 0, 1, 0, 0], ID: 1314,\n",
              " Nombre: Good Man in Africa, A (1994), Fecha de estreno: 1994-01-01 00:00:00, Genero: [0, 1, 1, 0, 0, 0, 0, 0, 0, 0, 0, 0, 0, 0, 0, 0, 0, 0, 0], ID: 1523,\n",
              " Nombre: Warriors of Virtue (1997), Fecha de estreno: 1997-05-02 00:00:00, Genero: [0, 1, 1, 0, 1, 0, 0, 0, 0, 1, 0, 0, 0, 0, 0, 0, 0, 0, 0], ID: 1615]"
            ]
          },
          "execution_count": 14,
          "metadata": {},
          "output_type": "execute_result"
        }
      ],
      "source": [
        "Pelicula.get_from_df(df_peliculas, generos=['action','adventure'])"
      ]
    },
    {
      "cell_type": "markdown",
      "metadata": {},
      "source": [
        "#### ALTA de una nueva pelicula"
      ]
    },
    {
      "cell_type": "code",
      "execution_count": 15,
      "metadata": {},
      "outputs": [],
      "source": [
        "pelicula_nueva = Pelicula(nombre='Oppenheimer',fecha_estreno='2023-07-14',generos=['Drama'])"
      ]
    },
    {
      "cell_type": "markdown",
      "metadata": {},
      "source": [
        "### Guardamos el objeto pelicula cargada en el dataframe"
      ]
    },
    {
      "cell_type": "code",
      "execution_count": 16,
      "metadata": {},
      "outputs": [
        {
          "data": {
            "text/html": [
              "<div>\n",
              "<style scoped>\n",
              "    .dataframe tbody tr th:only-of-type {\n",
              "        vertical-align: middle;\n",
              "    }\n",
              "\n",
              "    .dataframe tbody tr th {\n",
              "        vertical-align: top;\n",
              "    }\n",
              "\n",
              "    .dataframe thead th {\n",
              "        text-align: right;\n",
              "    }\n",
              "</style>\n",
              "<table border=\"1\" class=\"dataframe\">\n",
              "  <thead>\n",
              "    <tr style=\"text-align: right;\">\n",
              "      <th></th>\n",
              "      <th>id</th>\n",
              "      <th>Name</th>\n",
              "      <th>Release Date</th>\n",
              "      <th>IMDB URL</th>\n",
              "      <th>unknown</th>\n",
              "      <th>Action</th>\n",
              "      <th>Adventure</th>\n",
              "      <th>Animation</th>\n",
              "      <th>Children's</th>\n",
              "      <th>Comedy</th>\n",
              "      <th>...</th>\n",
              "      <th>Fantasy</th>\n",
              "      <th>Film-Noir</th>\n",
              "      <th>Horror</th>\n",
              "      <th>Musical</th>\n",
              "      <th>Mystery</th>\n",
              "      <th>Romance</th>\n",
              "      <th>Sci-Fi</th>\n",
              "      <th>Thriller</th>\n",
              "      <th>War</th>\n",
              "      <th>Western</th>\n",
              "    </tr>\n",
              "  </thead>\n",
              "  <tbody>\n",
              "    <tr>\n",
              "      <th>0</th>\n",
              "      <td>1</td>\n",
              "      <td>Toy Story (1995)</td>\n",
              "      <td>1995-01-01</td>\n",
              "      <td>http://us.imdb.com/M/title-exact?Toy%20Story%2...</td>\n",
              "      <td>0</td>\n",
              "      <td>0</td>\n",
              "      <td>0</td>\n",
              "      <td>1</td>\n",
              "      <td>1</td>\n",
              "      <td>1</td>\n",
              "      <td>...</td>\n",
              "      <td>0</td>\n",
              "      <td>0</td>\n",
              "      <td>0</td>\n",
              "      <td>0</td>\n",
              "      <td>0</td>\n",
              "      <td>0</td>\n",
              "      <td>0</td>\n",
              "      <td>0</td>\n",
              "      <td>0</td>\n",
              "      <td>0</td>\n",
              "    </tr>\n",
              "    <tr>\n",
              "      <th>1</th>\n",
              "      <td>2</td>\n",
              "      <td>GoldenEye (1995)</td>\n",
              "      <td>1995-01-01</td>\n",
              "      <td>http://us.imdb.com/M/title-exact?GoldenEye%20(...</td>\n",
              "      <td>0</td>\n",
              "      <td>1</td>\n",
              "      <td>1</td>\n",
              "      <td>0</td>\n",
              "      <td>0</td>\n",
              "      <td>0</td>\n",
              "      <td>...</td>\n",
              "      <td>0</td>\n",
              "      <td>0</td>\n",
              "      <td>0</td>\n",
              "      <td>0</td>\n",
              "      <td>0</td>\n",
              "      <td>0</td>\n",
              "      <td>0</td>\n",
              "      <td>1</td>\n",
              "      <td>0</td>\n",
              "      <td>0</td>\n",
              "    </tr>\n",
              "    <tr>\n",
              "      <th>2</th>\n",
              "      <td>3</td>\n",
              "      <td>Four Rooms (1995)</td>\n",
              "      <td>1995-01-01</td>\n",
              "      <td>http://us.imdb.com/M/title-exact?Four%20Rooms%...</td>\n",
              "      <td>0</td>\n",
              "      <td>0</td>\n",
              "      <td>0</td>\n",
              "      <td>0</td>\n",
              "      <td>0</td>\n",
              "      <td>0</td>\n",
              "      <td>...</td>\n",
              "      <td>0</td>\n",
              "      <td>0</td>\n",
              "      <td>0</td>\n",
              "      <td>0</td>\n",
              "      <td>0</td>\n",
              "      <td>0</td>\n",
              "      <td>0</td>\n",
              "      <td>1</td>\n",
              "      <td>0</td>\n",
              "      <td>0</td>\n",
              "    </tr>\n",
              "    <tr>\n",
              "      <th>3</th>\n",
              "      <td>4</td>\n",
              "      <td>Get Shorty (1995)</td>\n",
              "      <td>1995-01-01</td>\n",
              "      <td>http://us.imdb.com/M/title-exact?Get%20Shorty%...</td>\n",
              "      <td>0</td>\n",
              "      <td>1</td>\n",
              "      <td>0</td>\n",
              "      <td>0</td>\n",
              "      <td>0</td>\n",
              "      <td>1</td>\n",
              "      <td>...</td>\n",
              "      <td>0</td>\n",
              "      <td>0</td>\n",
              "      <td>0</td>\n",
              "      <td>0</td>\n",
              "      <td>0</td>\n",
              "      <td>0</td>\n",
              "      <td>0</td>\n",
              "      <td>0</td>\n",
              "      <td>0</td>\n",
              "      <td>0</td>\n",
              "    </tr>\n",
              "    <tr>\n",
              "      <th>4</th>\n",
              "      <td>5</td>\n",
              "      <td>Copycat (1995)</td>\n",
              "      <td>1995-01-01</td>\n",
              "      <td>http://us.imdb.com/M/title-exact?Copycat%20(1995)</td>\n",
              "      <td>0</td>\n",
              "      <td>0</td>\n",
              "      <td>0</td>\n",
              "      <td>0</td>\n",
              "      <td>0</td>\n",
              "      <td>0</td>\n",
              "      <td>...</td>\n",
              "      <td>0</td>\n",
              "      <td>0</td>\n",
              "      <td>0</td>\n",
              "      <td>0</td>\n",
              "      <td>0</td>\n",
              "      <td>0</td>\n",
              "      <td>0</td>\n",
              "      <td>1</td>\n",
              "      <td>0</td>\n",
              "      <td>0</td>\n",
              "    </tr>\n",
              "    <tr>\n",
              "      <th>...</th>\n",
              "      <td>...</td>\n",
              "      <td>...</td>\n",
              "      <td>...</td>\n",
              "      <td>...</td>\n",
              "      <td>...</td>\n",
              "      <td>...</td>\n",
              "      <td>...</td>\n",
              "      <td>...</td>\n",
              "      <td>...</td>\n",
              "      <td>...</td>\n",
              "      <td>...</td>\n",
              "      <td>...</td>\n",
              "      <td>...</td>\n",
              "      <td>...</td>\n",
              "      <td>...</td>\n",
              "      <td>...</td>\n",
              "      <td>...</td>\n",
              "      <td>...</td>\n",
              "      <td>...</td>\n",
              "      <td>...</td>\n",
              "      <td>...</td>\n",
              "    </tr>\n",
              "    <tr>\n",
              "      <th>1675</th>\n",
              "      <td>1679</td>\n",
              "      <td>B. Monkey (1998)</td>\n",
              "      <td>1998-02-06</td>\n",
              "      <td>http://us.imdb.com/M/title-exact?B%2E+Monkey+(...</td>\n",
              "      <td>0</td>\n",
              "      <td>0</td>\n",
              "      <td>0</td>\n",
              "      <td>0</td>\n",
              "      <td>0</td>\n",
              "      <td>0</td>\n",
              "      <td>...</td>\n",
              "      <td>0</td>\n",
              "      <td>0</td>\n",
              "      <td>0</td>\n",
              "      <td>0</td>\n",
              "      <td>0</td>\n",
              "      <td>1</td>\n",
              "      <td>0</td>\n",
              "      <td>1</td>\n",
              "      <td>0</td>\n",
              "      <td>0</td>\n",
              "    </tr>\n",
              "    <tr>\n",
              "      <th>1676</th>\n",
              "      <td>1680</td>\n",
              "      <td>Sliding Doors (1998)</td>\n",
              "      <td>1998-01-01</td>\n",
              "      <td>http://us.imdb.com/Title?Sliding+Doors+(1998)</td>\n",
              "      <td>0</td>\n",
              "      <td>0</td>\n",
              "      <td>0</td>\n",
              "      <td>0</td>\n",
              "      <td>0</td>\n",
              "      <td>0</td>\n",
              "      <td>...</td>\n",
              "      <td>0</td>\n",
              "      <td>0</td>\n",
              "      <td>0</td>\n",
              "      <td>0</td>\n",
              "      <td>0</td>\n",
              "      <td>1</td>\n",
              "      <td>0</td>\n",
              "      <td>0</td>\n",
              "      <td>0</td>\n",
              "      <td>0</td>\n",
              "    </tr>\n",
              "    <tr>\n",
              "      <th>1677</th>\n",
              "      <td>1681</td>\n",
              "      <td>You So Crazy (1994)</td>\n",
              "      <td>1994-01-01</td>\n",
              "      <td>http://us.imdb.com/M/title-exact?You%20So%20Cr...</td>\n",
              "      <td>0</td>\n",
              "      <td>0</td>\n",
              "      <td>0</td>\n",
              "      <td>0</td>\n",
              "      <td>0</td>\n",
              "      <td>1</td>\n",
              "      <td>...</td>\n",
              "      <td>0</td>\n",
              "      <td>0</td>\n",
              "      <td>0</td>\n",
              "      <td>0</td>\n",
              "      <td>0</td>\n",
              "      <td>0</td>\n",
              "      <td>0</td>\n",
              "      <td>0</td>\n",
              "      <td>0</td>\n",
              "      <td>0</td>\n",
              "    </tr>\n",
              "    <tr>\n",
              "      <th>1678</th>\n",
              "      <td>1682</td>\n",
              "      <td>Scream of Stone (Schrei aus Stein) (1991)</td>\n",
              "      <td>1996-03-08</td>\n",
              "      <td>http://us.imdb.com/M/title-exact?Schrei%20aus%...</td>\n",
              "      <td>0</td>\n",
              "      <td>0</td>\n",
              "      <td>0</td>\n",
              "      <td>0</td>\n",
              "      <td>0</td>\n",
              "      <td>0</td>\n",
              "      <td>...</td>\n",
              "      <td>0</td>\n",
              "      <td>0</td>\n",
              "      <td>0</td>\n",
              "      <td>0</td>\n",
              "      <td>0</td>\n",
              "      <td>0</td>\n",
              "      <td>0</td>\n",
              "      <td>0</td>\n",
              "      <td>0</td>\n",
              "      <td>0</td>\n",
              "    </tr>\n",
              "    <tr>\n",
              "      <th>1679</th>\n",
              "      <td>1683</td>\n",
              "      <td>Oppenheimer</td>\n",
              "      <td>2023-07-14</td>\n",
              "      <td>NaN</td>\n",
              "      <td>0</td>\n",
              "      <td>0</td>\n",
              "      <td>0</td>\n",
              "      <td>0</td>\n",
              "      <td>0</td>\n",
              "      <td>0</td>\n",
              "      <td>...</td>\n",
              "      <td>0</td>\n",
              "      <td>0</td>\n",
              "      <td>0</td>\n",
              "      <td>0</td>\n",
              "      <td>0</td>\n",
              "      <td>0</td>\n",
              "      <td>0</td>\n",
              "      <td>0</td>\n",
              "      <td>0</td>\n",
              "      <td>0</td>\n",
              "    </tr>\n",
              "  </tbody>\n",
              "</table>\n",
              "<p>1680 rows × 23 columns</p>\n",
              "</div>"
            ],
            "text/plain": [
              "        id                                       Name Release Date  \\\n",
              "0        1                           Toy Story (1995)   1995-01-01   \n",
              "1        2                           GoldenEye (1995)   1995-01-01   \n",
              "2        3                          Four Rooms (1995)   1995-01-01   \n",
              "3        4                          Get Shorty (1995)   1995-01-01   \n",
              "4        5                             Copycat (1995)   1995-01-01   \n",
              "...    ...                                        ...          ...   \n",
              "1675  1679                           B. Monkey (1998)   1998-02-06   \n",
              "1676  1680                       Sliding Doors (1998)   1998-01-01   \n",
              "1677  1681                        You So Crazy (1994)   1994-01-01   \n",
              "1678  1682  Scream of Stone (Schrei aus Stein) (1991)   1996-03-08   \n",
              "1679  1683                                Oppenheimer   2023-07-14   \n",
              "\n",
              "                                               IMDB URL  unknown  Action  \\\n",
              "0     http://us.imdb.com/M/title-exact?Toy%20Story%2...        0       0   \n",
              "1     http://us.imdb.com/M/title-exact?GoldenEye%20(...        0       1   \n",
              "2     http://us.imdb.com/M/title-exact?Four%20Rooms%...        0       0   \n",
              "3     http://us.imdb.com/M/title-exact?Get%20Shorty%...        0       1   \n",
              "4     http://us.imdb.com/M/title-exact?Copycat%20(1995)        0       0   \n",
              "...                                                 ...      ...     ...   \n",
              "1675  http://us.imdb.com/M/title-exact?B%2E+Monkey+(...        0       0   \n",
              "1676      http://us.imdb.com/Title?Sliding+Doors+(1998)        0       0   \n",
              "1677  http://us.imdb.com/M/title-exact?You%20So%20Cr...        0       0   \n",
              "1678  http://us.imdb.com/M/title-exact?Schrei%20aus%...        0       0   \n",
              "1679                                                NaN        0       0   \n",
              "\n",
              "      Adventure  Animation  Children's  Comedy  ...  Fantasy  Film-Noir  \\\n",
              "0             0          1           1       1  ...        0          0   \n",
              "1             1          0           0       0  ...        0          0   \n",
              "2             0          0           0       0  ...        0          0   \n",
              "3             0          0           0       1  ...        0          0   \n",
              "4             0          0           0       0  ...        0          0   \n",
              "...         ...        ...         ...     ...  ...      ...        ...   \n",
              "1675          0          0           0       0  ...        0          0   \n",
              "1676          0          0           0       0  ...        0          0   \n",
              "1677          0          0           0       1  ...        0          0   \n",
              "1678          0          0           0       0  ...        0          0   \n",
              "1679          0          0           0       0  ...        0          0   \n",
              "\n",
              "      Horror  Musical  Mystery  Romance  Sci-Fi  Thriller  War  Western  \n",
              "0          0        0        0        0       0         0    0        0  \n",
              "1          0        0        0        0       0         1    0        0  \n",
              "2          0        0        0        0       0         1    0        0  \n",
              "3          0        0        0        0       0         0    0        0  \n",
              "4          0        0        0        0       0         1    0        0  \n",
              "...      ...      ...      ...      ...     ...       ...  ...      ...  \n",
              "1675       0        0        0        1       0         1    0        0  \n",
              "1676       0        0        0        1       0         0    0        0  \n",
              "1677       0        0        0        0       0         0    0        0  \n",
              "1678       0        0        0        0       0         0    0        0  \n",
              "1679       0        0        0        0       0         0    0        0  \n",
              "\n",
              "[1680 rows x 23 columns]"
            ]
          },
          "execution_count": 16,
          "metadata": {},
          "output_type": "execute_result"
        }
      ],
      "source": [
        "pelicula_nueva.write_df(df_peliculas)"
      ]
    },
    {
      "cell_type": "markdown",
      "metadata": {},
      "source": [
        "#### BAJA de una nueva pelicula  *** REVISAR"
      ]
    },
    {
      "cell_type": "code",
      "execution_count": 18,
      "metadata": {},
      "outputs": [
        {
          "ename": "TypeError",
          "evalue": "Invalid comparison between dtype=datetime64[ns] and str",
          "output_type": "error",
          "traceback": [
            "\u001b[1;31m---------------------------------------------------------------------------\u001b[0m",
            "\u001b[1;31mParserError\u001b[0m                               Traceback (most recent call last)",
            "File \u001b[1;32mc:\\Users\\Jose Zerda\\anaconda3\\lib\\site-packages\\pandas\\_libs\\tslibs\\conversion.pyx:530\u001b[0m, in \u001b[0;36mpandas._libs.tslibs.conversion._convert_str_to_tsobject\u001b[1;34m()\u001b[0m\n",
            "File \u001b[1;32mc:\\Users\\Jose Zerda\\anaconda3\\lib\\site-packages\\pandas\\_libs\\tslibs\\parsing.pyx:318\u001b[0m, in \u001b[0;36mpandas._libs.tslibs.parsing.parse_datetime_string\u001b[1;34m()\u001b[0m\n",
            "File \u001b[1;32mc:\\Users\\Jose Zerda\\anaconda3\\lib\\site-packages\\dateutil\\parser\\_parser.py:1368\u001b[0m, in \u001b[0;36mparse\u001b[1;34m(timestr, parserinfo, **kwargs)\u001b[0m\n\u001b[0;32m   1367\u001b[0m \u001b[39melse\u001b[39;00m:\n\u001b[1;32m-> 1368\u001b[0m     \u001b[39mreturn\u001b[39;00m DEFAULTPARSER\u001b[39m.\u001b[39mparse(timestr, \u001b[39m*\u001b[39m\u001b[39m*\u001b[39mkwargs)\n",
            "File \u001b[1;32mc:\\Users\\Jose Zerda\\anaconda3\\lib\\site-packages\\dateutil\\parser\\_parser.py:643\u001b[0m, in \u001b[0;36mparser.parse\u001b[1;34m(self, timestr, default, ignoretz, tzinfos, **kwargs)\u001b[0m\n\u001b[0;32m    642\u001b[0m \u001b[39mif\u001b[39;00m res \u001b[39mis\u001b[39;00m \u001b[39mNone\u001b[39;00m:\n\u001b[1;32m--> 643\u001b[0m     \u001b[39mraise\u001b[39;00m ParserError(\u001b[39m\"\u001b[39m\u001b[39mUnknown string format: \u001b[39m\u001b[39m%s\u001b[39;00m\u001b[39m\"\u001b[39m, timestr)\n\u001b[0;32m    645\u001b[0m \u001b[39mif\u001b[39;00m \u001b[39mlen\u001b[39m(res) \u001b[39m==\u001b[39m \u001b[39m0\u001b[39m:\n",
            "\u001b[1;31mParserError\u001b[0m: Unknown string format: None",
            "\nDuring handling of the above exception, another exception occurred:\n",
            "\u001b[1;31mValueError\u001b[0m                                Traceback (most recent call last)",
            "File \u001b[1;32mc:\\Users\\Jose Zerda\\anaconda3\\lib\\site-packages\\pandas\\core\\arrays\\datetimelike.py:574\u001b[0m, in \u001b[0;36mDatetimeLikeArrayMixin._validate_comparison_value\u001b[1;34m(self, other)\u001b[0m\n\u001b[0;32m    572\u001b[0m \u001b[39mtry\u001b[39;00m:\n\u001b[0;32m    573\u001b[0m     \u001b[39m# GH#18435 strings get a pass from tzawareness compat\u001b[39;00m\n\u001b[1;32m--> 574\u001b[0m     other \u001b[39m=\u001b[39m \u001b[39mself\u001b[39;49m\u001b[39m.\u001b[39;49m_scalar_from_string(other)\n\u001b[0;32m    575\u001b[0m \u001b[39mexcept\u001b[39;00m (\u001b[39mValueError\u001b[39;00m, IncompatibleFrequency):\n\u001b[0;32m    576\u001b[0m     \u001b[39m# failed to parse as Timestamp/Timedelta/Period\u001b[39;00m\n",
            "File \u001b[1;32mc:\\Users\\Jose Zerda\\anaconda3\\lib\\site-packages\\pandas\\core\\arrays\\datetimes.py:456\u001b[0m, in \u001b[0;36mDatetimeArray._scalar_from_string\u001b[1;34m(self, value)\u001b[0m\n\u001b[0;32m    455\u001b[0m \u001b[39mdef\u001b[39;00m \u001b[39m_scalar_from_string\u001b[39m(\u001b[39mself\u001b[39m, value) \u001b[39m-\u001b[39m\u001b[39m>\u001b[39m Timestamp \u001b[39m|\u001b[39m NaTType:\n\u001b[1;32m--> 456\u001b[0m     \u001b[39mreturn\u001b[39;00m Timestamp(value, tz\u001b[39m=\u001b[39;49m\u001b[39mself\u001b[39;49m\u001b[39m.\u001b[39;49mtz)\n",
            "File \u001b[1;32mc:\\Users\\Jose Zerda\\anaconda3\\lib\\site-packages\\pandas\\_libs\\tslibs\\timestamps.pyx:1698\u001b[0m, in \u001b[0;36mpandas._libs.tslibs.timestamps.Timestamp.__new__\u001b[1;34m()\u001b[0m\n",
            "File \u001b[1;32mc:\\Users\\Jose Zerda\\anaconda3\\lib\\site-packages\\pandas\\_libs\\tslibs\\conversion.pyx:249\u001b[0m, in \u001b[0;36mpandas._libs.tslibs.conversion.convert_to_tsobject\u001b[1;34m()\u001b[0m\n",
            "File \u001b[1;32mc:\\Users\\Jose Zerda\\anaconda3\\lib\\site-packages\\pandas\\_libs\\tslibs\\conversion.pyx:533\u001b[0m, in \u001b[0;36mpandas._libs.tslibs.conversion._convert_str_to_tsobject\u001b[1;34m()\u001b[0m\n",
            "\u001b[1;31mValueError\u001b[0m: could not convert string to Timestamp",
            "\nDuring handling of the above exception, another exception occurred:\n",
            "\u001b[1;31mInvalidComparison\u001b[0m                         Traceback (most recent call last)",
            "File \u001b[1;32mc:\\Users\\Jose Zerda\\anaconda3\\lib\\site-packages\\pandas\\core\\arrays\\datetimelike.py:1054\u001b[0m, in \u001b[0;36mDatetimeLikeArrayMixin._cmp_method\u001b[1;34m(self, other, op)\u001b[0m\n\u001b[0;32m   1053\u001b[0m \u001b[39mtry\u001b[39;00m:\n\u001b[1;32m-> 1054\u001b[0m     other \u001b[39m=\u001b[39m \u001b[39mself\u001b[39;49m\u001b[39m.\u001b[39;49m_validate_comparison_value(other)\n\u001b[0;32m   1055\u001b[0m \u001b[39mexcept\u001b[39;00m InvalidComparison:\n",
            "File \u001b[1;32mc:\\Users\\Jose Zerda\\anaconda3\\lib\\site-packages\\pandas\\core\\arrays\\datetimelike.py:577\u001b[0m, in \u001b[0;36mDatetimeLikeArrayMixin._validate_comparison_value\u001b[1;34m(self, other)\u001b[0m\n\u001b[0;32m    575\u001b[0m     \u001b[39mexcept\u001b[39;00m (\u001b[39mValueError\u001b[39;00m, IncompatibleFrequency):\n\u001b[0;32m    576\u001b[0m         \u001b[39m# failed to parse as Timestamp/Timedelta/Period\u001b[39;00m\n\u001b[1;32m--> 577\u001b[0m         \u001b[39mraise\u001b[39;00m InvalidComparison(other)\n\u001b[0;32m    579\u001b[0m \u001b[39mif\u001b[39;00m \u001b[39misinstance\u001b[39m(other, \u001b[39mself\u001b[39m\u001b[39m.\u001b[39m_recognized_scalars) \u001b[39mor\u001b[39;00m other \u001b[39mis\u001b[39;00m NaT:\n",
            "\u001b[1;31mInvalidComparison\u001b[0m: None",
            "\nDuring handling of the above exception, another exception occurred:\n",
            "\u001b[1;31mTypeError\u001b[0m                                 Traceback (most recent call last)",
            "Cell \u001b[1;32mIn[18], line 1\u001b[0m\n\u001b[1;32m----> 1\u001b[0m pelicula_nueva\u001b[39m.\u001b[39;49mremove_from_df(df_peliculas, df_scores)\n",
            "File \u001b[1;32mc:\\Users\\Jose Zerda\\Documents\\ITBA-DeepLearning\\TP Integrador de Python\\compartido\\DeepLearning2023_TP1_Gr1\\pelicula.py:116\u001b[0m, in \u001b[0;36mPelicula.remove_from_df\u001b[1;34m(self, df, df_scores)\u001b[0m\n\u001b[0;32m    110\u001b[0m \u001b[39mdef\u001b[39;00m \u001b[39mremove_from_df\u001b[39m(\u001b[39mself\u001b[39m, df, df_scores):\n\u001b[0;32m    111\u001b[0m   \u001b[39m# Borra del DataFrame el objeto contenido en esta clase.\u001b[39;00m\n\u001b[0;32m    112\u001b[0m   \u001b[39m# Realiza el borrado si:\u001b[39;00m\n\u001b[0;32m    113\u001b[0m   \u001b[39m# - Todas las propiedades del objeto coinciden con la entrada en el DF. Caso contrario levanta un excepción.\u001b[39;00m\n\u001b[0;32m    114\u001b[0m   \u001b[39m# - No existe un score para la pelicula a borrar. Caso contrario levanta un excepción.\u001b[39;00m\n\u001b[1;32m--> 116\u001b[0m   peliculas \u001b[39m=\u001b[39m \u001b[39mself\u001b[39;49m\u001b[39m.\u001b[39;49mget_from_df(df, \u001b[39mself\u001b[39;49m\u001b[39m.\u001b[39;49mid, \u001b[39mself\u001b[39;49m\u001b[39m.\u001b[39;49mnombre, [\u001b[39mself\u001b[39;49m\u001b[39m.\u001b[39;49mfecha_estreno, \u001b[39mNone\u001b[39;49;00m], \u001b[39mself\u001b[39;49m\u001b[39m.\u001b[39;49mgeneros)\n\u001b[0;32m    117\u001b[0m   \u001b[39mif\u001b[39;00m (\u001b[39mlen\u001b[39m(peliculas) \u001b[39m==\u001b[39m \u001b[39m0\u001b[39m):\n\u001b[0;32m    118\u001b[0m     \u001b[39mraise\u001b[39;00m \u001b[39mException\u001b[39;00m(\u001b[39m'\u001b[39m\u001b[39mLa película no coincide con ninguna de las existentes en el dataframe.\u001b[39m\u001b[39m'\u001b[39m)\n",
            "File \u001b[1;32mc:\\Users\\Jose Zerda\\Documents\\ITBA-DeepLearning\\TP Integrador de Python\\compartido\\DeepLearning2023_TP1_Gr1\\pelicula.py:79\u001b[0m, in \u001b[0;36mPelicula.get_from_df\u001b[1;34m(cls, df_mov, id, nombre, anios, generos)\u001b[0m\n\u001b[0;32m     71\u001b[0m \u001b[39m@classmethod\u001b[39m\n\u001b[0;32m     72\u001b[0m \u001b[39mdef\u001b[39;00m \u001b[39mget_from_df\u001b[39m(\u001b[39mcls\u001b[39m, df_mov, \u001b[39mid\u001b[39m\u001b[39m=\u001b[39m\u001b[39mNone\u001b[39;00m, nombre \u001b[39m=\u001b[39m \u001b[39mNone\u001b[39;00m, anios \u001b[39m=\u001b[39m \u001b[39mNone\u001b[39;00m, generos \u001b[39m=\u001b[39m \u001b[39mNone\u001b[39;00m):\n\u001b[0;32m     73\u001b[0m   \u001b[39m# Este class method devuelve una lista de objetos 'Pelicula' buscando por:\u001b[39;00m\n\u001b[1;32m   (...)\u001b[0m\n\u001b[0;32m     76\u001b[0m   \u001b[39m# - anios: [desde_año, hasta_año]\u001b[39;00m\n\u001b[0;32m     77\u001b[0m   \u001b[39m# - generos: lista de géneros\u001b[39;00m\n\u001b[1;32m---> 79\u001b[0m   datos_filtrados \u001b[39m=\u001b[39m Pelicula\u001b[39m.\u001b[39;49m__filter_df__(df_mov, \u001b[39mid\u001b[39;49m, nombre, anios, generos)\n\u001b[0;32m     81\u001b[0m   lista_respuesta \u001b[39m=\u001b[39m []\n\u001b[0;32m     82\u001b[0m   \u001b[39mfor\u001b[39;00m indice, fila \u001b[39min\u001b[39;00m datos_filtrados\u001b[39m.\u001b[39miterrows():\n",
            "File \u001b[1;32mc:\\Users\\Jose Zerda\\Documents\\ITBA-DeepLearning\\TP Integrador de Python\\compartido\\DeepLearning2023_TP1_Gr1\\pelicula.py:50\u001b[0m, in \u001b[0;36mPelicula.__filter_df__\u001b[1;34m(cls, df_mov, id, nombre, anios, generos)\u001b[0m\n\u001b[0;32m     48\u001b[0m \u001b[39mif\u001b[39;00m anios \u001b[39m!=\u001b[39m \u001b[39mNone\u001b[39;00m:\n\u001b[0;32m     49\u001b[0m   \u001b[39mif\u001b[39;00m \u001b[39mlen\u001b[39m(anios) \u001b[39m==\u001b[39m \u001b[39m2\u001b[39m:\n\u001b[1;32m---> 50\u001b[0m     datos_filtrados \u001b[39m=\u001b[39m datos_filtrados[(datos_filtrados[\u001b[39m\"\u001b[39m\u001b[39mRelease Date\u001b[39m\u001b[39m\"\u001b[39m] \u001b[39m>\u001b[39m\u001b[39m=\u001b[39m \u001b[39mf\u001b[39m\u001b[39m'\u001b[39m\u001b[39m{\u001b[39;00manios[\u001b[39m0\u001b[39m]\u001b[39m}\u001b[39;00m\u001b[39m'\u001b[39m) \u001b[39m&\u001b[39m (datos_filtrados[\u001b[39m\"\u001b[39;49m\u001b[39mRelease Date\u001b[39;49m\u001b[39m\"\u001b[39;49m] \u001b[39m<\u001b[39;49m\u001b[39m=\u001b[39;49m \u001b[39mf\u001b[39;49m\u001b[39m'\u001b[39;49m\u001b[39m{\u001b[39;49;00manios[\u001b[39m1\u001b[39;49m]\u001b[39m}\u001b[39;49;00m\u001b[39m'\u001b[39;49m)]\n\u001b[0;32m     51\u001b[0m   \u001b[39melse\u001b[39;00m:\n\u001b[0;32m     52\u001b[0m     \u001b[39mraise\u001b[39;00m \u001b[39mValueError\u001b[39;00m(\u001b[39m\"\u001b[39m\u001b[39mla lista anios debe tener largo 2\u001b[39m\u001b[39m\"\u001b[39m)\n",
            "File \u001b[1;32mc:\\Users\\Jose Zerda\\anaconda3\\lib\\site-packages\\pandas\\core\\ops\\common.py:72\u001b[0m, in \u001b[0;36m_unpack_zerodim_and_defer.<locals>.new_method\u001b[1;34m(self, other)\u001b[0m\n\u001b[0;32m     68\u001b[0m             \u001b[39mreturn\u001b[39;00m \u001b[39mNotImplemented\u001b[39m\n\u001b[0;32m     70\u001b[0m other \u001b[39m=\u001b[39m item_from_zerodim(other)\n\u001b[1;32m---> 72\u001b[0m \u001b[39mreturn\u001b[39;00m method(\u001b[39mself\u001b[39;49m, other)\n",
            "File \u001b[1;32mc:\\Users\\Jose Zerda\\anaconda3\\lib\\site-packages\\pandas\\core\\arraylike.py:54\u001b[0m, in \u001b[0;36mOpsMixin.__le__\u001b[1;34m(self, other)\u001b[0m\n\u001b[0;32m     52\u001b[0m \u001b[39m@unpack_zerodim_and_defer\u001b[39m(\u001b[39m\"\u001b[39m\u001b[39m__le__\u001b[39m\u001b[39m\"\u001b[39m)\n\u001b[0;32m     53\u001b[0m \u001b[39mdef\u001b[39;00m \u001b[39m__le__\u001b[39m(\u001b[39mself\u001b[39m, other):\n\u001b[1;32m---> 54\u001b[0m     \u001b[39mreturn\u001b[39;00m \u001b[39mself\u001b[39;49m\u001b[39m.\u001b[39;49m_cmp_method(other, operator\u001b[39m.\u001b[39;49mle)\n",
            "File \u001b[1;32mc:\\Users\\Jose Zerda\\anaconda3\\lib\\site-packages\\pandas\\core\\series.py:6243\u001b[0m, in \u001b[0;36mSeries._cmp_method\u001b[1;34m(self, other, op)\u001b[0m\n\u001b[0;32m   6240\u001b[0m rvalues \u001b[39m=\u001b[39m extract_array(other, extract_numpy\u001b[39m=\u001b[39m\u001b[39mTrue\u001b[39;00m, extract_range\u001b[39m=\u001b[39m\u001b[39mTrue\u001b[39;00m)\n\u001b[0;32m   6242\u001b[0m \u001b[39mwith\u001b[39;00m np\u001b[39m.\u001b[39merrstate(\u001b[39mall\u001b[39m\u001b[39m=\u001b[39m\u001b[39m\"\u001b[39m\u001b[39mignore\u001b[39m\u001b[39m\"\u001b[39m):\n\u001b[1;32m-> 6243\u001b[0m     res_values \u001b[39m=\u001b[39m ops\u001b[39m.\u001b[39;49mcomparison_op(lvalues, rvalues, op)\n\u001b[0;32m   6245\u001b[0m \u001b[39mreturn\u001b[39;00m \u001b[39mself\u001b[39m\u001b[39m.\u001b[39m_construct_result(res_values, name\u001b[39m=\u001b[39mres_name)\n",
            "File \u001b[1;32mc:\\Users\\Jose Zerda\\anaconda3\\lib\\site-packages\\pandas\\core\\ops\\array_ops.py:273\u001b[0m, in \u001b[0;36mcomparison_op\u001b[1;34m(left, right, op)\u001b[0m\n\u001b[0;32m    264\u001b[0m         \u001b[39mraise\u001b[39;00m \u001b[39mValueError\u001b[39;00m(\n\u001b[0;32m    265\u001b[0m             \u001b[39m\"\u001b[39m\u001b[39mLengths must match to compare\u001b[39m\u001b[39m\"\u001b[39m, lvalues\u001b[39m.\u001b[39mshape, rvalues\u001b[39m.\u001b[39mshape\n\u001b[0;32m    266\u001b[0m         )\n\u001b[0;32m    268\u001b[0m \u001b[39mif\u001b[39;00m should_extension_dispatch(lvalues, rvalues) \u001b[39mor\u001b[39;00m (\n\u001b[0;32m    269\u001b[0m     (\u001b[39misinstance\u001b[39m(rvalues, (Timedelta, BaseOffset, Timestamp)) \u001b[39mor\u001b[39;00m right \u001b[39mis\u001b[39;00m NaT)\n\u001b[0;32m    270\u001b[0m     \u001b[39mand\u001b[39;00m \u001b[39mnot\u001b[39;00m is_object_dtype(lvalues\u001b[39m.\u001b[39mdtype)\n\u001b[0;32m    271\u001b[0m ):\n\u001b[0;32m    272\u001b[0m     \u001b[39m# Call the method on lvalues\u001b[39;00m\n\u001b[1;32m--> 273\u001b[0m     res_values \u001b[39m=\u001b[39m op(lvalues, rvalues)\n\u001b[0;32m    275\u001b[0m \u001b[39melif\u001b[39;00m is_scalar(rvalues) \u001b[39mand\u001b[39;00m isna(rvalues):  \u001b[39m# TODO: but not pd.NA?\u001b[39;00m\n\u001b[0;32m    276\u001b[0m     \u001b[39m# numpy does not like comparisons vs None\u001b[39;00m\n\u001b[0;32m    277\u001b[0m     \u001b[39mif\u001b[39;00m op \u001b[39mis\u001b[39;00m operator\u001b[39m.\u001b[39mne:\n",
            "File \u001b[1;32mc:\\Users\\Jose Zerda\\anaconda3\\lib\\site-packages\\pandas\\core\\ops\\common.py:72\u001b[0m, in \u001b[0;36m_unpack_zerodim_and_defer.<locals>.new_method\u001b[1;34m(self, other)\u001b[0m\n\u001b[0;32m     68\u001b[0m             \u001b[39mreturn\u001b[39;00m \u001b[39mNotImplemented\u001b[39m\n\u001b[0;32m     70\u001b[0m other \u001b[39m=\u001b[39m item_from_zerodim(other)\n\u001b[1;32m---> 72\u001b[0m \u001b[39mreturn\u001b[39;00m method(\u001b[39mself\u001b[39;49m, other)\n",
            "File \u001b[1;32mc:\\Users\\Jose Zerda\\anaconda3\\lib\\site-packages\\pandas\\core\\arraylike.py:54\u001b[0m, in \u001b[0;36mOpsMixin.__le__\u001b[1;34m(self, other)\u001b[0m\n\u001b[0;32m     52\u001b[0m \u001b[39m@unpack_zerodim_and_defer\u001b[39m(\u001b[39m\"\u001b[39m\u001b[39m__le__\u001b[39m\u001b[39m\"\u001b[39m)\n\u001b[0;32m     53\u001b[0m \u001b[39mdef\u001b[39;00m \u001b[39m__le__\u001b[39m(\u001b[39mself\u001b[39m, other):\n\u001b[1;32m---> 54\u001b[0m     \u001b[39mreturn\u001b[39;00m \u001b[39mself\u001b[39;49m\u001b[39m.\u001b[39;49m_cmp_method(other, operator\u001b[39m.\u001b[39;49mle)\n",
            "File \u001b[1;32mc:\\Users\\Jose Zerda\\anaconda3\\lib\\site-packages\\pandas\\core\\arrays\\datetimelike.py:1056\u001b[0m, in \u001b[0;36mDatetimeLikeArrayMixin._cmp_method\u001b[1;34m(self, other, op)\u001b[0m\n\u001b[0;32m   1054\u001b[0m     other \u001b[39m=\u001b[39m \u001b[39mself\u001b[39m\u001b[39m.\u001b[39m_validate_comparison_value(other)\n\u001b[0;32m   1055\u001b[0m \u001b[39mexcept\u001b[39;00m InvalidComparison:\n\u001b[1;32m-> 1056\u001b[0m     \u001b[39mreturn\u001b[39;00m invalid_comparison(\u001b[39mself\u001b[39;49m, other, op)\n\u001b[0;32m   1058\u001b[0m dtype \u001b[39m=\u001b[39m \u001b[39mgetattr\u001b[39m(other, \u001b[39m\"\u001b[39m\u001b[39mdtype\u001b[39m\u001b[39m\"\u001b[39m, \u001b[39mNone\u001b[39;00m)\n\u001b[0;32m   1059\u001b[0m \u001b[39mif\u001b[39;00m is_object_dtype(dtype):\n\u001b[0;32m   1060\u001b[0m     \u001b[39m# We have to use comp_method_OBJECT_ARRAY instead of numpy\u001b[39;00m\n\u001b[0;32m   1061\u001b[0m     \u001b[39m#  comparison otherwise it would fail to raise when\u001b[39;00m\n\u001b[0;32m   1062\u001b[0m     \u001b[39m#  comparing tz-aware and tz-naive\u001b[39;00m\n",
            "File \u001b[1;32mc:\\Users\\Jose Zerda\\anaconda3\\lib\\site-packages\\pandas\\core\\ops\\invalid.py:36\u001b[0m, in \u001b[0;36minvalid_comparison\u001b[1;34m(left, right, op)\u001b[0m\n\u001b[0;32m     34\u001b[0m \u001b[39melse\u001b[39;00m:\n\u001b[0;32m     35\u001b[0m     typ \u001b[39m=\u001b[39m \u001b[39mtype\u001b[39m(right)\u001b[39m.\u001b[39m\u001b[39m__name__\u001b[39m\n\u001b[1;32m---> 36\u001b[0m     \u001b[39mraise\u001b[39;00m \u001b[39mTypeError\u001b[39;00m(\u001b[39mf\u001b[39m\u001b[39m\"\u001b[39m\u001b[39mInvalid comparison between dtype=\u001b[39m\u001b[39m{\u001b[39;00mleft\u001b[39m.\u001b[39mdtype\u001b[39m}\u001b[39;00m\u001b[39m and \u001b[39m\u001b[39m{\u001b[39;00mtyp\u001b[39m}\u001b[39;00m\u001b[39m\"\u001b[39m)\n\u001b[0;32m     37\u001b[0m \u001b[39mreturn\u001b[39;00m res_values\n",
            "\u001b[1;31mTypeError\u001b[0m: Invalid comparison between dtype=datetime64[ns] and str"
          ]
        }
      ],
      "source": [
        "pelicula_nueva.remove_from_df(df_peliculas, df_scores)"
      ]
    },
    {
      "attachments": {},
      "cell_type": "markdown",
      "metadata": {
        "id": "yRbIFjP9L2Ht"
      },
      "source": [
        "# Enunciado\n",
        "\n",
        "Los alumnos deberán implementar las 5 clases correspondientes para la gestión de cada uno de los tipos de datos, los cuales residen cada uno en un DataFrame distinto. El sistema está compuesto por estos 5 DataFrames. La gestión consiste en alta/baja de datos y estadísticas para cada tipo de datos (uno por DataFrame). El prototipo de cada clase deberá ser propuesto por los alumnos basándose en el prototipo de la clase 'Pelicula'.\n",
        "\n",
        "Adicionalmente a la implementación de las 5 clases, deberán implementar una función para cargar todo el sistema:\n",
        "\n",
        "~~~\n",
        "def load_all(file_personas, file_trabajadores, file_usuarios, file_peliculas, file_scores):\n",
        "    #Código de Carga\n",
        "    return df_personas, df_trabajadores, df_usuarios, df_peliculas, df_scores\n",
        "~~~ \n",
        "\n",
        "El código de carga debera realizar un chequeo de consistencia entre los DataFrames y eliminar cualquier inconsistencia que se detecte. Por ejemplo un id presente en el DataFrame de usuarios que no está presente en el DataFrame de personas, o un id de película que esté en el DataFrame de Scores, que no esté presente en el DataFrame de películas.  \n",
        "\n",
        "Deberá implementarse además, otra función para salvar todo el sistema (los 5 DataFrames) en 5 archivos:\n",
        "\n",
        "~~~\n",
        "def save_all(df_personas, df_trabajadores, df_usuarios, df_peliculas, df_scores, file_personas=\"personas.csv\", file_trabajadores=\"trabajadores.csv\", file_usuarios=\"usuarios.csv\", file_peliculas=\"peliculas.csv\", file_scores=\"scores.csv\"):\n",
        "    #Código de Salvado\n",
        "    return 0 # O -1 si hubo algún error \n",
        "~~~ \n",
        "\n",
        "Todos los módulos deberán estar en un archivo .py separado (modularizado) conteniendo las implementaciones de las 5 clases y las funciones de carga y salvado."
      ]
    },
    {
      "cell_type": "markdown",
      "metadata": {},
      "source": [
        "### PELICULAS"
      ]
    },
    {
      "cell_type": "markdown",
      "metadata": {},
      "source": [
        "### PELICULAS"
      ]
    },
    {
      "attachments": {},
      "cell_type": "markdown",
      "metadata": {
        "id": "T_rEHCuLPeOk"
      },
      "source": [
        "## Estadísticas\n",
        "\n",
        "Las estadísticas recomendadas para cada tipo de datos son las siguientes, pueden agregar más si lo desean:\n",
        "\n",
        "- Películas: Película más vieja, película más nueva, Cantidades de películas por año/género. Cantidad de películas totales.\n",
        "- Personas: Cantidad de personas por año de nacimiento y Género. Cantidad total de personas.\n",
        "- Usuarios: Cantidad de usuarios por Ocupación/Año de Nacimiento. Cantidad total de usuarios.\n",
        "- Trabajadores: Cantidad de trabajadores por puesto. Cantidad total de trabajadores.\n",
        "- Scores: Puntuación promedio de usuario(s) por año(de película)/género. Puntuación promedio de películas por género de usuario(sexo)/rango etáreo/Ocupación.\n"
      ]
    },
    {
      "attachments": {},
      "cell_type": "markdown",
      "metadata": {
        "id": "ZBnrferoTi3M"
      },
      "source": [
        "# Entregable\n",
        "\n",
        "El entregable deberá ser un archivo .zip (los alumnos que lo prefieran pueden entregar un link con un repositoriod e github) que contenga:\n",
        "\n",
        "- helper.py: todos los módulos desarrollados para resolver el TP. Los mismos deberán tener comentarios. Los mismos no deberán ser línea por línea sino explicaciones coloquiales de lo que hará cada fragmento de código.  \n",
        "- Demostración.ipynb: Notebook documentando la ejecución de cada uno de los módulos y sus resultados.\n",
        "- Los archivos csv correspondientes a las bases de datos.\n",
        "Opcionalmente se puede mostrar/entregar una notebook llamada 'EDA.ipynb' que contenga un análisis de los datos de cada uno de los archivos csv que se proveen.\n",
        "\n",
        "**La entrega será una exposición de 30 minutos máximo durante una tutoría obligatoria en fecha a convenir.**\n",
        "\n"
      ]
    }
  ],
  "metadata": {
    "colab": {
      "provenance": []
    },
    "interpreter": {
      "hash": "8a94588eda9d64d9e9a351ab8144e55b1fabf5113b54e67dd26a8c27df0381b3"
    },
    "kernelspec": {
      "display_name": "Python 3.10.4 64-bit",
      "language": "python",
      "name": "python3"
    },
    "language_info": {
      "codemirror_mode": {
        "name": "ipython",
        "version": 3
      },
      "file_extension": ".py",
      "mimetype": "text/x-python",
      "name": "python",
      "nbconvert_exporter": "python",
      "pygments_lexer": "ipython3",
      "version": "3.10.9"
    }
  },
  "nbformat": 4,
  "nbformat_minor": 0
}
